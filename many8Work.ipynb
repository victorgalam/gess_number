{
  "nbformat": 4,
  "nbformat_minor": 0,
  "metadata": {
    "colab": {
      "provenance": [],
      "authorship_tag": "ABX9TyOnPvgRuoHuBQInR1y/5FKN",
      "include_colab_link": true
    },
    "kernelspec": {
      "name": "python3",
      "display_name": "Python 3"
    },
    "language_info": {
      "name": "python"
    }
  },
  "cells": [
    {
      "cell_type": "markdown",
      "metadata": {
        "id": "view-in-github",
        "colab_type": "text"
      },
      "source": [
        "<a href=\"https://colab.research.google.com/github/victorgalam/gess_number/blob/main/many8Work.ipynb\" target=\"_parent\"><img src=\"https://colab.research.google.com/assets/colab-badge.svg\" alt=\"Open In Colab\"/></a>"
      ]
    },
    {
      "cell_type": "markdown",
      "source": [],
      "metadata": {
        "id": "uLpXww5TRyS6"
      }
    },
    {
      "cell_type": "code",
      "execution_count": 5,
      "metadata": {
        "id": "VP9kNUqdZWNm"
      },
      "outputs": [],
      "source": [
        "class Book:\n",
        " def __init__(self, title, author, copies):\n",
        "  self.title = title\n",
        "  self.author = author\n",
        "  self.copies = copies\n",
        "\n",
        " def lend_book(self):\n",
        "  self.copies -= 1\n",
        "\n",
        " def return_book(self):\n",
        "  self.copies += 1\n",
        "\n",
        "class Member:\n",
        "  def __init__(self, name):\n",
        "   self.name = name\n",
        "   self.borrowed_books = []\n",
        "\n",
        "  def borrow_book(self, book):\n",
        "    self.borrowed_books.append(book)\n",
        "    book.lend_book()\n",
        "\n",
        "  def return_book(self, book):\n",
        "   self.borrowed_books.remove(book)\n",
        "   book.return_book()\n",
        "\n",
        "  def display_catalog(books):\n",
        "   for book in books:\n",
        "    print(book.title, book.author, book.copies)\n",
        "\n",
        "  def display_members(members):\n",
        "   for Member in members:\n",
        "    print(Member.name, Member.borrowed_books)"
      ]
    },
    {
      "cell_type": "code",
      "source": [
        "book_vic = Book(\"BOOK2\",\"victor\",12)\n",
        "book_Jack = Book(\"softwer\",\"jacob\",1)\n",
        "\n",
        "Book.return_book(book_vic)\n",
        "\n",
        "book_vic.lend_book()\n",
        "\n",
        "print(book_vic.author)\n",
        "print(book_Jack.title)\n",
        "\n",
        "print(book_vic.copies)\n",
        "\n"
      ],
      "metadata": {
        "colab": {
          "base_uri": "https://localhost:8080/"
        },
        "id": "D3hw1Cydag4E",
        "outputId": "260d137f-3006-4caf-e6cc-ada10ad23f08"
      },
      "execution_count": 6,
      "outputs": [
        {
          "output_type": "stream",
          "name": "stdout",
          "text": [
            "victor\n",
            "softwer\n",
            "12\n"
          ]
        }
      ]
    },
    {
      "cell_type": "code",
      "source": [
        "victor = Member(\"victor\" )\n",
        "jacob = Member(\"jacob\" )\n",
        "mazal = Member(\"mazal\" )\n",
        "\n",
        "victor.borrow_book(book_vic)\n",
        "victor.borrow_book(book_Jack)\n",
        "\n",
        "victor.return_book(book_vic)\n",
        "\n",
        "print([book.title for book in victor.borrowed_books])\n",
        "\n",
        "Member.display_catalog(books = [book_vic,book_Jack])\n",
        "\n",
        "Member.display_members(members = [victor,jacob,mazal])"
      ],
      "metadata": {
        "colab": {
          "base_uri": "https://localhost:8080/"
        },
        "id": "IUtpZ6wpj9s-",
        "outputId": "e0e6a23a-f49a-4e7b-9391-1398176ee2ac"
      },
      "execution_count": 35,
      "outputs": [
        {
          "output_type": "stream",
          "name": "stdout",
          "text": [
            "['softwer']\n",
            "BOOK2 victor 12\n",
            "softwer jacob -1\n",
            "victor [<__main__.Book object at 0x7ef42f30c910>]\n",
            "jacob []\n",
            "mazal []\n"
          ]
        }
      ]
    },
    {
      "cell_type": "markdown",
      "source": [
        "**Answer 2 **"
      ],
      "metadata": {
        "id": "3-vKwWEDRsKW"
      }
    },
    {
      "cell_type": "code",
      "source": [
        "class Animal:\n",
        "  def __init__(self,name,kind,sex,age):\n",
        "    self.name = name\n",
        "    self.kind = kind\n",
        "    self.sex = sex\n",
        "    self.age = age\n",
        "\n",
        "  def adopted(self):\n",
        "   print(\"this animal is adoted\")\n",
        "\n",
        "  def not_adopted(self):\n",
        "   print(\"this animal not is adoted\")\n",
        "\n",
        "\n",
        "class Adopter:\n",
        "  def __init__(self,name,adopts_list):\n",
        "   self.name = name\n",
        "   self.adopts_list = adopts_list\n",
        "\n",
        "  def adpot_animal(self, adopted, animal):\n",
        "   if adopted:\n",
        "    print(\"you cant adopt this animal\")\n",
        "   else:\n",
        "    print(f\"{animal.name} is adopted seccsfuly\")\n",
        "    self.adopts_list.append(animal)\n",
        "    animal.adopted()\n",
        "\n",
        "\n",
        "  def return_amimal(self, adopted, animal, ):\n",
        "   if not adopted:\n",
        "    print(\"you cant return this animal\")\n",
        "   else:\n",
        "    Adopter.adopts_list.remove(animal)\n",
        "    animal.not_adopted()\n",
        "    print(f\"{animal.name} is adopted seccsfuly\")\n",
        "\n",
        "  def show_animals(self, adopted, not_adopted):\n",
        "\n",
        ""
      ],
      "metadata": {
        "colab": {
          "base_uri": "https://localhost:8080/",
          "height": 106
        },
        "id": "0ToMn6jlhRNf",
        "outputId": "83cbfb28-623a-4228-f246-ad4a454e5afc"
      },
      "execution_count": 49,
      "outputs": [
        {
          "output_type": "error",
          "ename": "SyntaxError",
          "evalue": "incomplete input (<ipython-input-49-14ae3f57df1d>, line 39)",
          "traceback": [
            "\u001b[0;36m  File \u001b[0;32m\"<ipython-input-49-14ae3f57df1d>\"\u001b[0;36m, line \u001b[0;32m39\u001b[0m\n\u001b[0;31m    \u001b[0m\n\u001b[0m    ^\u001b[0m\n\u001b[0;31mSyntaxError\u001b[0m\u001b[0;31m:\u001b[0m incomplete input\n"
          ]
        }
      ]
    },
    {
      "cell_type": "code",
      "source": [
        "raksy = Animal(\"raksy\",\"dog\",\"female\",2)\n",
        "kliford = Animal(\"kliford\",\"dog\",\"male\",1)\n",
        "booldog = Animal(\"booldog\",\"dog\",\"male\",1)\n",
        "shoko = Animal(\"shoko\",\"dog\",\"male\",3)\n",
        "\n",
        "\n",
        "\n",
        "david = Adopter(\"david\",[raksy,kliford])\n",
        "yossi = Adopter(\"yossi\",[shoko])\n",
        "haim = Adopter(\"haim\",[])"
      ],
      "metadata": {
        "id": "Gyhq_MvvoiG_"
      },
      "execution_count": 36,
      "outputs": []
    },
    {
      "cell_type": "code",
      "source": [
        "print(david.adopts_list)"
      ],
      "metadata": {
        "colab": {
          "base_uri": "https://localhost:8080/"
        },
        "id": "2Y495W6tqRCH",
        "outputId": "cc8bb19c-dc74-4873-de09-7c477f700dda"
      },
      "execution_count": 42,
      "outputs": [
        {
          "output_type": "stream",
          "name": "stdout",
          "text": [
            "[<__main__.Animal object at 0x7ef42f216200>, <__main__.Animal object at 0x7ef42f214190>]\n"
          ]
        }
      ]
    }
  ]
}